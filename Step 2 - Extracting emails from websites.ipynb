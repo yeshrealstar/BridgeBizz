{
 "cells": [
  {
   "cell_type": "raw",
   "id": "382683c4",
   "metadata": {},
   "source": [
    "Strategy:\n",
    "    After we extract all the company names and its websites from google \n",
    "    For each file in the results names folder => We extract the emails one after the other \n",
    "    We save each file again updating the emails:"
   ]
  },
  {
   "cell_type": "code",
   "execution_count": null,
   "id": "4e988ef5",
   "metadata": {},
   "outputs": [],
   "source": []
  },
  {
   "cell_type": "code",
   "execution_count": 1,
   "id": "bb78f223",
   "metadata": {},
   "outputs": [],
   "source": [
    "# libraries\n",
    "from selenium import webdriver\n",
    "from selenium.webdriver.common.action_chains import ActionChains\n",
    "from selenium.webdriver.chrome.service import Service\n",
    "from selenium import webdriver\n",
    "from selenium.webdriver.common.by import By\n",
    "import time\n",
    "import pandas as pd\n",
    "import re\n",
    "import requests\n",
    "import numpy as np\n",
    "import tqdm\n",
    "import os"
   ]
  },
  {
   "cell_type": "code",
   "execution_count": null,
   "id": "ec1db606",
   "metadata": {},
   "outputs": [],
   "source": []
  },
  {
   "cell_type": "code",
   "execution_count": null,
   "id": "8060b66c",
   "metadata": {},
   "outputs": [],
   "source": []
  },
  {
   "cell_type": "raw",
   "id": "39c1761e",
   "metadata": {},
   "source": [
    "## logic:\n",
    "1. For each entry or row\n",
    "2. If website is given => Extract contact page and try to extract emails\n",
    "3. If website is not given => Extract website => Extract contact page and try to extract emails"
   ]
  },
  {
   "cell_type": "code",
   "execution_count": 2,
   "id": "d2ea94f4",
   "metadata": {},
   "outputs": [],
   "source": [
    "## Initiating the browser\n",
    "options = webdriver.ChromeOptions()\n",
    "path = \"../chrome/chromedriver.exe\"\n",
    "service = Service(executable_path=path)\n",
    "browser = webdriver.Chrome(service=service,options=options)\n",
    "browser.maximize_window()\n",
    "\n",
    "browser.set_page_load_timeout(60) # only for 5 minutes\n"
   ]
  },
  {
   "cell_type": "code",
   "execution_count": 3,
   "id": "32475ee0",
   "metadata": {},
   "outputs": [],
   "source": [
    "def getEmailFromWebsite(url):\n",
    "    global browser \n",
    "    \n",
    "    emails = set()\n",
    "    # opening with selnium\n",
    "    browser.get(url)\n",
    "    \n",
    "    # from any element which has @ in their text\n",
    "    elems = browser.find_elements(\"xpath\",\"//*[contains(text(), '@')]\")\n",
    "    for elem in elems:\n",
    "        es = ((re.findall(r\"\\b[A-Za-z0-9._%+-]+@[A-Za-z0-9.-]+\\.[A-Z|a-z]{2,}\\b\", elem.text, re.I)))\n",
    "        emails.update(es)\n",
    "    \n",
    "    if len(emails) == 0:\n",
    "        try:\n",
    "            \n",
    "            time.sleep(1)\n",
    "            button = browser.find_element(By.XPATH, \"//a[contains(text(),'contact')]\") \n",
    "            browser.execute_script(\"arguments[0].click();\", button)\n",
    "\n",
    "\n",
    "            elems = browser.find_elements(\"xpath\",\"//*[contains(text(), '@')]\")\n",
    "            for elem in elems:\n",
    "                es = ((re.findall(r\"\\b[A-Za-z0-9._%+-]+@[A-Za-z0-9.-]+\\.[A-Z|a-z]{2,}\\b\", elem.text, re.I)))\n",
    "                emails.update(es)\n",
    "        except:\n",
    "            pass\n",
    "    \n",
    "    return \";\".join(emails)\n"
   ]
  },
  {
   "cell_type": "code",
   "execution_count": 94,
   "id": "9f4e196f",
   "metadata": {},
   "outputs": [
    {
     "data": {
      "text/plain": [
       "'info@safapharm.com'"
      ]
     },
     "execution_count": 94,
     "metadata": {},
     "output_type": "execute_result"
    }
   ],
   "source": [
    "url = \"https://safapharm.com\"\n",
    "getEmailFromWebsite(url)"
   ]
  },
  {
   "cell_type": "code",
   "execution_count": 4,
   "id": "33c10ec8",
   "metadata": {},
   "outputs": [],
   "source": [
    "def extractWebsiteFromName(name):\n",
    "    global browser\n",
    "    global country\n",
    "    url_base = \"https://www.google.com/search?q=\"\n",
    "    url = url_base + name + \" \" + country\n",
    "\n",
    "    # opening a url:\n",
    "    browser.get(url)\n",
    "    elems = browser.find_elements(\"xpath\",\"//a[@jsname='UWckNb']\")\n",
    "\n",
    "    # check first\n",
    "    elem = elems[0]\n",
    "    link = elem.text.split(\"\\n\")[2]\n",
    "    \n",
    "    marketplaces = [\n",
    "        'justdail',\n",
    "        'amazon',\n",
    "        'cphi',\n",
    "        'dnb',\n",
    "        'wikipedia',\n",
    "        'linkedin',\n",
    "        'indiamart'\n",
    "    ]\n",
    "    \n",
    "    for m in marketplaces:\n",
    "        if m in link:\n",
    "            return None\n",
    "    \n",
    "    if 'http' in link:\n",
    "        if \"›\" in link:\n",
    "            link = link.split(\"›\")[0].strip()\n",
    "\n",
    "        for m in marketplaces:\n",
    "            if m in link:\n",
    "                return None\n",
    "            \n",
    "        return link\n",
    "    else:\n",
    "        # check second\n",
    "        elem = elems[1]\n",
    "        link = elem.text.split(\"\\n\")[2]\n",
    "        if 'http' in link:\n",
    "            if \"›\" in link:\n",
    "                link = link.split(\"›\")[0].strip()\n",
    "            return link\n",
    "        else:\n",
    "            # check third\n",
    "            elem = elems[1]\n",
    "            link = elem.text.split(\"\\n\")[2]\n",
    "            if 'http' in link:\n",
    "                if \"›\" in link:\n",
    "                    link = link.split(\"›\")[0].strip()\n",
    "                return link\n",
    "    return None\n",
    "\n"
   ]
  },
  {
   "cell_type": "code",
   "execution_count": 78,
   "id": "fe207628",
   "metadata": {},
   "outputs": [
    {
     "data": {
      "text/plain": [
       "'https://www.julphar.net'"
      ]
     },
     "execution_count": 78,
     "metadata": {},
     "output_type": "execute_result"
    }
   ],
   "source": [
    "name = \"Julphar Iraq\"\n",
    "links = extractWebsiteFromName(name)\n",
    "links"
   ]
  },
  {
   "cell_type": "code",
   "execution_count": 5,
   "id": "2da6666f",
   "metadata": {},
   "outputs": [],
   "source": [
    "def extractEmail(row):\n",
    "    \n",
    "    name = row['name']\n",
    "    website = row['website']\n",
    "    \n",
    "    emails_all = []\n",
    "    \n",
    "    if type(website) != float:\n",
    "        # extract emails from website:\n",
    "        emails = getEmailFromWebsite(website)\n",
    "        emails_all.extend(emails.split(\";\"))\n",
    "        \n",
    "    else:\n",
    "        # try extracting website from company name\n",
    "        website = extractWebsiteFromName(name)\n",
    "        row['website']=website\n",
    "        \n",
    "        emails = getEmailFromWebsite(website)\n",
    "        emails_all.extend(emails.split(\";\"))\n",
    "    \n",
    "    row['emails']=\";\".join(emails_all)\n",
    "    return row\n",
    "    \n"
   ]
  },
  {
   "cell_type": "markdown",
   "id": "12f22056-c8f0-44d0-97ad-6d18535807ae",
   "metadata": {},
   "source": [
    "### Step 2: Selections"
   ]
  },
  {
   "cell_type": "code",
   "execution_count": 9,
   "id": "2df97950-4552-4a26-91f7-e94f168cbdf9",
   "metadata": {},
   "outputs": [],
   "source": [
    "country = \"India\"\n",
    "industry = \"Food\""
   ]
  },
  {
   "cell_type": "code",
   "execution_count": 12,
   "id": "5cb39680",
   "metadata": {},
   "outputs": [
    {
     "data": {
      "text/plain": [
       "['Bangalore.csv',\n",
       " 'Chennai.csv',\n",
       " 'companies_highlevel_1.csv',\n",
       " 'Delhi.csv',\n",
       " 'Hyderabad.csv',\n",
       " 'Kolkata.csv',\n",
       " 'Mumbai.csv',\n",
       " 'Pune.csv']"
      ]
     },
     "execution_count": 12,
     "metadata": {},
     "output_type": "execute_result"
    }
   ],
   "source": [
    "files = os.listdir(\"../results/industries/{}/{}/names\".format(industry,country))\n",
    "files"
   ]
  },
  {
   "cell_type": "code",
   "execution_count": null,
   "id": "6998603d",
   "metadata": {},
   "outputs": [],
   "source": [
    "os.mkdir(\"../results/industries/{}/{}/emails\".format(industry,country))"
   ]
  },
  {
   "cell_type": "code",
   "execution_count": 14,
   "id": "ab61a7d3",
   "metadata": {},
   "outputs": [
    {
     "data": {
      "text/plain": [
       "['Mumbai.csv', 'Pune.csv']"
      ]
     },
     "execution_count": 14,
     "metadata": {},
     "output_type": "execute_result"
    }
   ],
   "source": [
    "files[-2:]"
   ]
  },
  {
   "cell_type": "code",
   "execution_count": 15,
   "id": "2e45eae0",
   "metadata": {},
   "outputs": [
    {
     "name": "stdout",
     "output_type": "stream",
     "text": [
      "Index :: 0\n",
      "Started for file :: Bangalore.csv\n"
     ]
    },
    {
     "name": "stderr",
     "output_type": "stream",
     "text": [
      "100%|████████████████████████████████████████████████████████████████████████████████| 120/120 [14:11<00:00,  7.09s/it]\n"
     ]
    },
    {
     "name": "stdout",
     "output_type": "stream",
     "text": [
      "Index :: 1\n",
      "Started for file :: Chennai.csv\n"
     ]
    },
    {
     "name": "stderr",
     "output_type": "stream",
     "text": [
      "100%|████████████████████████████████████████████████████████████████████████████████| 120/120 [15:27<00:00,  7.73s/it]\n"
     ]
    },
    {
     "name": "stdout",
     "output_type": "stream",
     "text": [
      "Index :: 2\n",
      "Started for file :: companies_highlevel_1.csv\n"
     ]
    },
    {
     "name": "stderr",
     "output_type": "stream",
     "text": [
      "100%|████████████████████████████████████████████████████████████████████████████████| 105/105 [10:18<00:00,  5.89s/it]\n"
     ]
    },
    {
     "name": "stdout",
     "output_type": "stream",
     "text": [
      "Index :: 3\n",
      "Started for file :: Delhi.csv\n"
     ]
    },
    {
     "name": "stderr",
     "output_type": "stream",
     "text": [
      "100%|████████████████████████████████████████████████████████████████████████████████| 120/120 [11:23<00:00,  5.69s/it]\n"
     ]
    },
    {
     "name": "stdout",
     "output_type": "stream",
     "text": [
      "Index :: 4\n",
      "Started for file :: Hyderabad.csv\n"
     ]
    },
    {
     "name": "stderr",
     "output_type": "stream",
     "text": [
      "100%|████████████████████████████████████████████████████████████████████████████████| 100/100 [08:02<00:00,  4.83s/it]\n"
     ]
    },
    {
     "name": "stdout",
     "output_type": "stream",
     "text": [
      "Index :: 5\n",
      "Started for file :: Kolkata.csv\n"
     ]
    },
    {
     "name": "stderr",
     "output_type": "stream",
     "text": [
      "100%|████████████████████████████████████████████████████████████████████████████████| 120/120 [12:12<00:00,  6.11s/it]\n"
     ]
    },
    {
     "name": "stdout",
     "output_type": "stream",
     "text": [
      "Index :: 6\n",
      "Started for file :: Mumbai.csv\n"
     ]
    },
    {
     "name": "stderr",
     "output_type": "stream",
     "text": [
      "100%|████████████████████████████████████████████████████████████████████████████████| 120/120 [10:22<00:00,  5.19s/it]\n"
     ]
    },
    {
     "name": "stdout",
     "output_type": "stream",
     "text": [
      "Index :: 7\n",
      "Started for file :: Pune.csv\n"
     ]
    },
    {
     "name": "stderr",
     "output_type": "stream",
     "text": [
      "100%|████████████████████████████████████████████████████████████████████████████████| 120/120 [12:01<00:00,  6.01s/it]\n"
     ]
    }
   ],
   "source": [
    "\n",
    "for ind, file in enumerate(files):\n",
    "    print(\"Index ::\",ind)\n",
    "    print(\"Started for file ::\",file)\n",
    "    \n",
    "    updated_rows = []\n",
    "    failed_rows = []\n",
    "    existing_rows_names = []\n",
    "\n",
    "    df = pd.read_csv(\"../results/industries/{}/{}/names/{}\".format(industry,country,file))\n",
    "    rows = df.to_dict('records')\n",
    "    \n",
    "    for row in tqdm.tqdm(rows):\n",
    "        if row['name'] not in existing_rows_names:\n",
    "            try:\n",
    "                n = extractEmail(row)\n",
    "                updated_rows.append(n)\n",
    "            except:\n",
    "                failed_rows.append(row)\n",
    "                row['emails']=\"\"\n",
    "                updated_rows.append(row)\n",
    "                pass\n",
    "            \n",
    "        existing_rows_names.append(row['name'])\n",
    "    \n",
    "    # saving\n",
    "    df = pd.DataFrame(updated_rows)\n",
    "    df.to_csv((\"../results/industries/{}/{}/emails/{}\".format(industry,country,file)),index=None)"
   ]
  },
  {
   "cell_type": "code",
   "execution_count": null,
   "id": "2203ee1e-8824-42f2-8e48-c124a5811db2",
   "metadata": {},
   "outputs": [],
   "source": []
  },
  {
   "cell_type": "code",
   "execution_count": null,
   "id": "ed1a31c3-66a6-4a76-ad5f-9177cb947017",
   "metadata": {},
   "outputs": [],
   "source": [
    "## Ading time break logic with multi-processing:\n",
    "import multiprocessing\n",
    "import time\n",
    "\n",
    "# bar\n",
    "def bar():\n",
    "    for i in range(100):\n",
    "        print \"Tick\"\n",
    "        time.sleep(1)\n",
    "\n",
    "if __name__ == '__main__':\n",
    "    # Start bar as a process\n",
    "    p = multiprocessing.Process(target=bar)\n",
    "    p.start()\n",
    "\n",
    "    # Wait for 10 seconds or until process finishes\n",
    "    p.join(10)\n",
    "\n",
    "    # If thread is still active\n",
    "    if p.is_alive():\n",
    "        print \"running... let's kill it...\"\n",
    "\n",
    "        # Terminate - may not work if process is stuck for good\n",
    "        p.terminate()\n",
    "        # OR Kill - will work for sure, no chance for process to finish nicely however\n",
    "        # p.kill()\n",
    "\n",
    "        p.join()"
   ]
  },
  {
   "cell_type": "code",
   "execution_count": 56,
   "id": "f31bd7f1",
   "metadata": {},
   "outputs": [],
   "source": []
  },
  {
   "cell_type": "code",
   "execution_count": 22,
   "id": "162486ad",
   "metadata": {},
   "outputs": [
    {
     "name": "stdout",
     "output_type": "stream",
     "text": [
      "Index :: 0\n",
      "Started for file :: companies_1.csv\n"
     ]
    },
    {
     "name": "stderr",
     "output_type": "stream",
     "text": [
      "100%|██████████████████████████████████████████████████████████████████████████████████| 73/73 [12:20<00:00, 10.15s/it]\n"
     ]
    }
   ],
   "source": [
    "## When it is taking too much time for a certain website:\n",
    "\n",
    "for ind, file in enumerate(files):\n",
    "    print(\"Index ::\",ind)\n",
    "    print(\"Started for file ::\",file)\n",
    "    \n",
    "    updated_rows = []\n",
    "    failed_rows = []\n",
    "    existing_rows_names = []\n",
    "\n",
    "    df = pd.read_csv(\"../results/names/{}/{}\".format(country,file))\n",
    "    rows = df.to_dict('records')\n",
    "    \n",
    "    for row in tqdm.tqdm(rows[46:]):\n",
    "        if row['name'] not in existing_rows_names:\n",
    "            try:\n",
    "                n = extractEmail(row)\n",
    "                updated_rows.append(n)\n",
    "            except:\n",
    "                failed_rows.append(row)\n",
    "                row['emails']=\"\"\n",
    "                updated_rows.append(row)\n",
    "                pass\n",
    "            \n",
    "        \n",
    "    \n",
    "    "
   ]
  },
  {
   "cell_type": "code",
   "execution_count": 24,
   "id": "1dacdfbe",
   "metadata": {},
   "outputs": [
    {
     "data": {
      "text/plain": [
       "{'name': 'Austex Pharmaceutical PTE LTD',\n",
       " 'phone': '062008 92433',\n",
       " 'website': 'http://www.austexpharma.com/',\n",
       " 'address': '81 UBI Avenue 4 #06-03 UB.ONE',\n",
       " 'emails': 'contact@austexpharma.com'}"
      ]
     },
     "execution_count": 24,
     "metadata": {},
     "output_type": "execute_result"
    }
   ],
   "source": [
    "# remember to update the index accordingly\n",
    "updated_rows[0]"
   ]
  },
  {
   "cell_type": "code",
   "execution_count": 26,
   "id": "e46f5886",
   "metadata": {},
   "outputs": [],
   "source": [
    "# saving\n",
    "df = pd.DataFrame(updated_rows)\n",
    "df.to_csv(\"../results/emails/{}/{}\".format(country,file),index=None)"
   ]
  },
  {
   "cell_type": "code",
   "execution_count": null,
   "id": "dfe1a59b",
   "metadata": {},
   "outputs": [],
   "source": []
  }
 ],
 "metadata": {
  "kernelspec": {
   "display_name": "Python 3 (ipykernel)",
   "language": "python",
   "name": "python3"
  },
  "language_info": {
   "codemirror_mode": {
    "name": "ipython",
    "version": 3
   },
   "file_extension": ".py",
   "mimetype": "text/x-python",
   "name": "python",
   "nbconvert_exporter": "python",
   "pygments_lexer": "ipython3",
   "version": "3.12.2"
  }
 },
 "nbformat": 4,
 "nbformat_minor": 5
}
