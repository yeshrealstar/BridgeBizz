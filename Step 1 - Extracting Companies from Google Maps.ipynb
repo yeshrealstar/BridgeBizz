{
 "cells": [
  {
   "cell_type": "raw",
   "id": "02566c9d",
   "metadata": {},
   "source": [
    "Strategy: \n",
    "    1. Select the country \n",
    "    2. Automatically gets all the pharma companies on a high level\n",
    "    3. We extract list of cities in a given country\n",
    "    4. Automatically extracts the pharma companies from each city and saves them in names folder in results\n",
    "    5. Select a particular city to extract in-depth extraction and then save them.  "
   ]
  },
  {
   "cell_type": "code",
   "execution_count": 1,
   "id": "c7f3b53d",
   "metadata": {},
   "outputs": [],
   "source": [
    "# libraries\n",
    "\n",
    "from selenium import webdriver\n",
    "from selenium.webdriver.common.action_chains import ActionChains\n",
    "from selenium.webdriver.chrome.service import Service\n",
    "from selenium import webdriver\n",
    "from selenium.webdriver.common.by import By\n",
    "import time\n",
    "\n",
    "import pandas as pd\n",
    "import re\n",
    "from deep_translator import GoogleTranslator\n",
    "import tqdm\n",
    "import os"
   ]
  },
  {
   "cell_type": "code",
   "execution_count": 2,
   "id": "7f614175",
   "metadata": {},
   "outputs": [],
   "source": [
    "# helper functions:\n",
    "def myTranslate(t):\n",
    "    # Translate to English:\n",
    "    text = GoogleTranslator(source='auto', target='en').translate(t)\n",
    "    return text\n",
    "    \n",
    "def extractNumber(t):\n",
    "    phone = re.findall(r'[[0-9][0-9 .\\-\\(\\)]{6,}[0-9]', t)\n",
    "    return phone\n",
    "\n",
    "def getLabelData(elem):\n",
    "    ts = elem.text.split(\"\\n\")\n",
    "    name = ts[0]\n",
    "    \n",
    "    # TODO \n",
    "#     name = myTranslate(name)\n",
    "    \n",
    "    reviews = ts[1]\n",
    "    try:\n",
    "        address = ts[2]\n",
    "    except:\n",
    "        address = \"\"\n",
    "        \n",
    "#     address = myTranslate(address)\n",
    "\n",
    "#     temp = name + \" || \" + address\n",
    "#     trans = myTranslate(temp)\n",
    "#     try:\n",
    "#         name,address = trans.split(\"||\")\n",
    "#     except:\n",
    "#         print(\"Issue with splitting ::\",trans)\n",
    "#         name = myTranslate(name)\n",
    "#         address = myTranslate(address)\n",
    "    \n",
    "    \n",
    "    # try replace\n",
    "    address = address.replace(\"Pharmaceutical company ·\",\"\")\n",
    "    \n",
    "    try:\n",
    "        timings_phone = ts[3]\n",
    "    except:\n",
    "        timings_phone = \"\"\n",
    "        \n",
    "    temp = extractNumber(timings_phone)\n",
    "    if len(temp)>0:\n",
    "        phonenumber = temp[0]\n",
    "    else:\n",
    "        phonenumber = \"\"\n",
    "    # adding website\n",
    "    \n",
    "    try:\n",
    "        a = elem.find_element(By.TAG_NAME,\"a\")\n",
    "        website = a.get_attribute('href')\n",
    "    except:\n",
    "        website = \"\"\n",
    "        \n",
    "    obj = {\n",
    "        \"name\":name.strip(),\n",
    "        \"phone\":phonenumber,\n",
    "        \"website\":website,\n",
    "        \"address\":address.strip()\n",
    "        \n",
    "    }\n",
    "    return obj\n"
   ]
  },
  {
   "cell_type": "code",
   "execution_count": 4,
   "id": "e853e1b6",
   "metadata": {},
   "outputs": [],
   "source": [
    "# Initiating the browser\n",
    "options = webdriver.ChromeOptions()\n",
    "path = \"../chrome\\chromedriver.exe\"\n",
    "service = Service(executable_path=path)\n",
    "browser = webdriver.Chrome(service=service,options=options)\n",
    "browser.maximize_window()"
   ]
  },
  {
   "cell_type": "markdown",
   "id": "bc8ac2b0",
   "metadata": {},
   "source": [
    "### 1. High level search:"
   ]
  },
  {
   "cell_type": "code",
   "execution_count": 3,
   "id": "8c494591",
   "metadata": {},
   "outputs": [],
   "source": [
    "country = \"Egypt\" # Please change accordingly"
   ]
  },
  {
   "cell_type": "code",
   "execution_count": 5,
   "id": "82a530d6",
   "metadata": {},
   "outputs": [
    {
     "data": {
      "text/plain": [
       "'https://www.google.com/maps/search/pharma companies in Egypt'"
      ]
     },
     "execution_count": 5,
     "metadata": {},
     "output_type": "execute_result"
    }
   ],
   "source": [
    "company_category = \"Pharmaceutical Companies\"\n",
    "url = \"https://www.google.com/maps/search/pharma companies in {}\".format(country)\n",
    "url"
   ]
  },
  {
   "cell_type": "code",
   "execution_count": 6,
   "id": "9ec08439",
   "metadata": {},
   "outputs": [],
   "source": [
    "data = []"
   ]
  },
  {
   "cell_type": "code",
   "execution_count": 7,
   "id": "3b15c988",
   "metadata": {},
   "outputs": [
    {
     "name": "stdout",
     "output_type": "stream",
     "text": [
      "Currently extracting from ::  https://www.google.com/maps/search/pharma companies in Egypt\n",
      "28 times reached !!\n"
     ]
    }
   ],
   "source": [
    "# started extracting\n",
    "print(\"Currently extracting from :: \",url)\n",
    "\n",
    "# Open the Google Map URL\n",
    "browser.get(url)\n",
    "# scrolling : \n",
    "actionChains = ActionChains(browser)\n",
    "\n",
    "# scrolling upto 20 times::\n",
    "end = False\n",
    "repeat = 0\n",
    "limit = 28\n",
    "    \n",
    "while not end and repeat < limit:\n",
    "\n",
    "    # check end\n",
    "    end_identify = browser.find_elements(\"xpath\",'.//span[@class=\"HlvSq\"]')\n",
    "    if len(end_identify)>0:\n",
    "        end = True\n",
    "        print(\"Reached end !!\")\n",
    "\n",
    "    repeat += 1\n",
    "    if repeat == limit:\n",
    "        print(\"28 times reached !!\")\n",
    "        end = True\n",
    "    \n",
    "    elems = browser.find_elements(\"xpath\",'.//div[@class=\"bfdHYd Ppzolf OFBs3e  \"]')\n",
    "    if len(elems)==0:\n",
    "        print(\"Remember to add \")\n",
    "        continue\n",
    "    elem = elems[-1]\n",
    "    \n",
    "    xoffset = 0\n",
    "    yoffset = 80 # If you get \"target move out of boundaries\" => change this value\n",
    "    \n",
    "    actionChains.move_to_element_with_offset(elem, xoffset, yoffset).perform()\n",
    "    browser.execute_script(\"arguments[0].scrollIntoView();\", elem)\n",
    "\n",
    "\n"
   ]
  },
  {
   "cell_type": "code",
   "execution_count": 8,
   "id": "d5b27ece",
   "metadata": {},
   "outputs": [
    {
     "name": "stderr",
     "output_type": "stream",
     "text": [
      "C:\\Users\\yeshu\\AppData\\Local\\Temp\\ipykernel_10980\\595260018.py:8: FutureWarning: Possible nested set at position 1\n",
      "  phone = re.findall(r'[[0-9][0-9 .\\-\\(\\)]{6,}[0-9]', t)\n"
     ]
    }
   ],
   "source": [
    "# extracting the data\n",
    "elems = browser.find_elements(\"xpath\",'.//div[@class=\"bfdHYd Ppzolf OFBs3e  \"]')\n",
    "for elem in elems:\n",
    "    d = getLabelData(elem)\n",
    "    data.append(d)\n"
   ]
  },
  {
   "cell_type": "code",
   "execution_count": 9,
   "id": "739bbf81",
   "metadata": {},
   "outputs": [
    {
     "data": {
      "text/html": [
       "<div>\n",
       "<style scoped>\n",
       "    .dataframe tbody tr th:only-of-type {\n",
       "        vertical-align: middle;\n",
       "    }\n",
       "\n",
       "    .dataframe tbody tr th {\n",
       "        vertical-align: top;\n",
       "    }\n",
       "\n",
       "    .dataframe thead th {\n",
       "        text-align: right;\n",
       "    }\n",
       "</style>\n",
       "<table border=\"1\" class=\"dataframe\">\n",
       "  <thead>\n",
       "    <tr style=\"text-align: right;\">\n",
       "      <th></th>\n",
       "      <th>name</th>\n",
       "      <th>phone</th>\n",
       "      <th>website</th>\n",
       "      <th>address</th>\n",
       "    </tr>\n",
       "  </thead>\n",
       "  <tbody>\n",
       "    <tr>\n",
       "      <th>0</th>\n",
       "      <td>Egyptian Company For Pharmaceutical</td>\n",
       "      <td>20 2 22250000</td>\n",
       "      <td>http://www.eptc-egydrug.com/</td>\n",
       "      <td>1353 Corniche El Nil, Shobra</td>\n",
       "    </tr>\n",
       "    <tr>\n",
       "      <th>1</th>\n",
       "      <td>Merck Ltd. /Merck Biopharma/Merck life science...</td>\n",
       "      <td>20 2 22686614</td>\n",
       "      <td>http://merckgroup.com/</td>\n",
       "      <td>Merck Ltd. - Egypt | Building 4 Section 1150 E...</td>\n",
       "    </tr>\n",
       "    <tr>\n",
       "      <th>2</th>\n",
       "      <td>BIO PHARMA EGYPT s.a.e</td>\n",
       "      <td>20 2 38204351</td>\n",
       "      <td></td>\n",
       "      <td>5 Mossadak St Dokki Giza Governorate EG, 12311</td>\n",
       "    </tr>\n",
       "    <tr>\n",
       "      <th>3</th>\n",
       "      <td>Chemipharm Pharmaceutical Industries</td>\n",
       "      <td>20 2 33474875</td>\n",
       "      <td></td>\n",
       "      <td>6 Hassan Sabry St</td>\n",
       "    </tr>\n",
       "    <tr>\n",
       "      <th>4</th>\n",
       "      <td>2S Pharma Group</td>\n",
       "      <td>20 2 24472341</td>\n",
       "      <td>http://www.2spharma.com/</td>\n",
       "      <td>2110 Al Arqam Ibn Aby Al Arqam St. Off Ring Rd...</td>\n",
       "    </tr>\n",
       "  </tbody>\n",
       "</table>\n",
       "</div>"
      ],
      "text/plain": [
       "                                                name          phone  \\\n",
       "0                Egyptian Company For Pharmaceutical  20 2 22250000   \n",
       "1  Merck Ltd. /Merck Biopharma/Merck life science...  20 2 22686614   \n",
       "2                             BIO PHARMA EGYPT s.a.e  20 2 38204351   \n",
       "3               Chemipharm Pharmaceutical Industries  20 2 33474875   \n",
       "4                                    2S Pharma Group  20 2 24472341   \n",
       "\n",
       "                        website  \\\n",
       "0  http://www.eptc-egydrug.com/   \n",
       "1        http://merckgroup.com/   \n",
       "2                                 \n",
       "3                                 \n",
       "4      http://www.2spharma.com/   \n",
       "\n",
       "                                             address  \n",
       "0                       1353 Corniche El Nil, Shobra  \n",
       "1  Merck Ltd. - Egypt | Building 4 Section 1150 E...  \n",
       "2     5 Mossadak St Dokki Giza Governorate EG, 12311  \n",
       "3                                  6 Hassan Sabry St  \n",
       "4  2110 Al Arqam Ibn Aby Al Arqam St. Off Ring Rd...  "
      ]
     },
     "execution_count": 9,
     "metadata": {},
     "output_type": "execute_result"
    }
   ],
   "source": [
    "## saving results:\n",
    "df = pd.DataFrame(data)\n",
    "df.head()"
   ]
  },
  {
   "cell_type": "code",
   "execution_count": 10,
   "id": "aca86241",
   "metadata": {},
   "outputs": [],
   "source": [
    "# creating a folder\n",
    "os.mkdir(\"../results/names/{}\".format(country))"
   ]
  },
  {
   "cell_type": "code",
   "execution_count": 11,
   "id": "30555ef0",
   "metadata": {},
   "outputs": [],
   "source": [
    "df.to_csv(\"../results/names/{}/companies_1.csv\".format(country),index=None)"
   ]
  },
  {
   "cell_type": "code",
   "execution_count": null,
   "id": "da776982",
   "metadata": {},
   "outputs": [],
   "source": []
  },
  {
   "cell_type": "markdown",
   "id": "3c8776e2",
   "metadata": {},
   "source": [
    "#### Cites wise"
   ]
  },
  {
   "cell_type": "code",
   "execution_count": 12,
   "id": "622df48f",
   "metadata": {},
   "outputs": [],
   "source": [
    "# loading the list of cities\n",
    "cities_df = pd.read_csv(\"../data/worldcities.csv\")\n",
    "cities = list(cities_df[cities_df['country'] == country]['city_ascii'].values)"
   ]
  },
  {
   "cell_type": "code",
   "execution_count": 13,
   "id": "503312c1",
   "metadata": {},
   "outputs": [
    {
     "data": {
      "text/plain": [
       "159"
      ]
     },
     "execution_count": 13,
     "metadata": {},
     "output_type": "execute_result"
    }
   ],
   "source": [
    "len(cities)"
   ]
  },
  {
   "cell_type": "code",
   "execution_count": 14,
   "id": "ade07a98",
   "metadata": {},
   "outputs": [
    {
     "data": {
      "text/plain": [
       "['Cairo',\n",
       " 'Giza',\n",
       " 'Alexandria',\n",
       " 'Shubra al Khaymah',\n",
       " 'Al Mansurah',\n",
       " 'Halwan',\n",
       " 'Al Mahallah al Kubra',\n",
       " 'Port Said',\n",
       " 'Suez',\n",
       " 'Al `Ashir min Ramadan',\n",
       " 'Tanta',\n",
       " 'Asyut',\n",
       " 'Biba',\n",
       " \"Ash Shuhada'\",\n",
       " 'Az Zaqaziq',\n",
       " 'Al Fayyum',\n",
       " 'Al `Ajami',\n",
       " 'Al Matariyah',\n",
       " 'Ismailia',\n",
       " 'Kafr ad Dawwar',\n",
       " 'Aswan',\n",
       " 'Damanhur',\n",
       " 'Al Minya',\n",
       " 'Mallawi',\n",
       " 'Damietta',\n",
       " 'Qina',\n",
       " 'Bani Suwayf',\n",
       " 'Timayy al Imdid',\n",
       " 'Luxor',\n",
       " 'Suhaj',\n",
       " 'Shibin al Kawm',\n",
       " 'Al `Arish',\n",
       " 'Banha',\n",
       " 'Al Ghardaqah',\n",
       " 'Kafr ash Shaykh',\n",
       " 'Madinat as Sadis min Uktubar',\n",
       " 'Disuq',\n",
       " 'Bilbays',\n",
       " 'Idfu',\n",
       " 'Mit Ghamr',\n",
       " 'Sinnuris',\n",
       " 'Rosetta',\n",
       " 'Jirja',\n",
       " 'Munuf',\n",
       " 'Faqus',\n",
       " 'Qalyub',\n",
       " 'Matruh',\n",
       " 'Idku',\n",
       " 'Akhmim',\n",
       " 'Zifta',\n",
       " 'Al Badrashayn',\n",
       " 'Talkha',\n",
       " 'Manfalut',\n",
       " 'Al Khankah',\n",
       " 'Bani Mazar',\n",
       " 'Kirdasah',\n",
       " 'Kafr az Zayyat',\n",
       " 'Maghaghah',\n",
       " '`Izbat al Burj',\n",
       " 'Al Qusiyah',\n",
       " 'Abnub',\n",
       " 'Tukh',\n",
       " 'Hihya',\n",
       " 'Al Minshah',\n",
       " 'Al Qurayn',\n",
       " 'Dalja',\n",
       " 'As Saff',\n",
       " 'Samannud',\n",
       " 'Abu Qir',\n",
       " 'Al Karnak',\n",
       " 'Al Balyana',\n",
       " 'Al Kharjah',\n",
       " 'Al `Ayyat',\n",
       " 'Naj` Hammadi',\n",
       " 'Al Badari',\n",
       " 'Kafr al Kurdi',\n",
       " 'Dayr Mawas',\n",
       " 'Faraskur',\n",
       " 'Shanawan',\n",
       " 'Qiman al `Arus',\n",
       " 'As Sarw',\n",
       " 'Qaha',\n",
       " 'Hirriyat Raznah',\n",
       " 'Mit Nama',\n",
       " 'Kafr Shukr',\n",
       " 'Sharunah',\n",
       " 'Abu Sir Bana',\n",
       " 'Bani Murr',\n",
       " 'Al Madamud',\n",
       " 'Sunbat',\n",
       " 'Al Qays',\n",
       " 'Jarajus',\n",
       " 'Zawiyat Razin',\n",
       " 'Dayr Abu Hinnis',\n",
       " 'Bani Hasan ash Shuruq',\n",
       " 'Biyahmu',\n",
       " 'Aja',\n",
       " 'Birqash',\n",
       " 'Dishashah',\n",
       " 'Mit Damsis',\n",
       " 'At Tur',\n",
       " 'Qufadah',\n",
       " 'Shanhur',\n",
       " 'Dayr as Sanquriyah',\n",
       " \"Ra's Gharib\",\n",
       " 'Al Jammaliyah',\n",
       " 'Samalut',\n",
       " \"Bi'r al `Abd\",\n",
       " 'Madinat as Sadat',\n",
       " 'Armant',\n",
       " 'Sharm ash Shaykh',\n",
       " 'Farshut',\n",
       " 'Kawm Umbu',\n",
       " \"Bur Fu'ad\",\n",
       " 'Isna',\n",
       " 'Dikirnis',\n",
       " 'Abu Qurqas',\n",
       " 'Ash Shaykh Zuwayd',\n",
       " 'Dandarah',\n",
       " 'Matay',\n",
       " 'Mit Salsil',\n",
       " 'Bani `Ubayd',\n",
       " 'Kafr al Battikh',\n",
       " 'Abu al Matamir',\n",
       " 'San al Hajar al Qibliyah',\n",
       " 'Ihnasya al Madinah',\n",
       " 'Nabaruh',\n",
       " 'Daraw',\n",
       " 'Rafah',\n",
       " 'Ar Rahmaniyah',\n",
       " 'Mahallat Damanah',\n",
       " 'Qutur',\n",
       " 'Al Husayniyah',\n",
       " 'Abu Suwayr',\n",
       " 'Shubrakhit',\n",
       " 'Safaja',\n",
       " 'Kafr Sa`d',\n",
       " 'Qift',\n",
       " 'Siwah',\n",
       " 'Naqadah',\n",
       " 'Sa al Hajar',\n",
       " 'Al Hibah',\n",
       " 'Sakha',\n",
       " 'Qantir',\n",
       " 'Sidmant al Jabal',\n",
       " 'Sidi Barani',\n",
       " 'Dayr al Barsha',\n",
       " 'Ad Dab`ah',\n",
       " 'Burj al `Arab',\n",
       " 'Sawadah',\n",
       " 'Abjij',\n",
       " 'Qal`at an Nakhl',\n",
       " 'Najrij',\n",
       " 'As Sallum',\n",
       " 'Al `Alamayn',\n",
       " 'Mandishah',\n",
       " 'Qasr al Farafirah',\n",
       " 'Al Qasr',\n",
       " 'Barnis']"
      ]
     },
     "execution_count": 14,
     "metadata": {},
     "output_type": "execute_result"
    }
   ],
   "source": [
    "cities"
   ]
  },
  {
   "cell_type": "code",
   "execution_count": 15,
   "id": "7287517d",
   "metadata": {},
   "outputs": [],
   "source": [
    "## Remember to drag , zoom in and then extract : repeat\n",
    "## Initiating the browser\n",
    "options = webdriver.ChromeOptions()\n",
    "path = \"../chrome\\chromedriver.exe\"\n",
    "service = Service(executable_path=path)\n",
    "browser = webdriver.Chrome(service=service,options=options)\n",
    "browser.maximize_window()\n",
    "\n",
    "# browser.set_page_load_timeout(300) # only for 5 minutes"
   ]
  },
  {
   "cell_type": "code",
   "execution_count": 16,
   "id": "bb490721",
   "metadata": {},
   "outputs": [
    {
     "name": "stderr",
     "output_type": "stream",
     "text": [
      "100%|█████████████████████████████████████████████████████████████████████████████| 102/102 [5:02:21<00:00, 177.86s/it]\n"
     ]
    }
   ],
   "source": [
    "for city in tqdm.tqdm(cities[57:]):\n",
    "    data = []\n",
    "    url = \"https://www.google.com/maps/search/Pharmaceutical companies in {} {}\".format(city,country)\n",
    "#     print(\"Currently extracting from :: \",url)\n",
    "    browser.get(url)\n",
    "    \n",
    "    # scrolling : \n",
    "    actionChains = ActionChains(browser)\n",
    "\n",
    "    # scrolling upto 20 times::\n",
    "    end = False\n",
    "    repeat = 0\n",
    "    limit = 28\n",
    "\n",
    "    while not end and repeat < limit:\n",
    "\n",
    "        # check end\n",
    "        end_identify = browser.find_elements(\"xpath\",'.//span[@class=\"HlvSq\"]')\n",
    "        if len(end_identify)>0:\n",
    "            end = True\n",
    "#             print(\"Reached end !!\")\n",
    "\n",
    "        repeat += 1\n",
    "        if repeat == limit:\n",
    "#             print(\"28 times reached !!\")\n",
    "            end = True\n",
    "\n",
    "        elems = browser.find_elements(\"xpath\",'.//div[@class=\"bfdHYd Ppzolf OFBs3e  \"]')\n",
    "        if len(elems)==0:\n",
    "#             print(\"Remember to add \")\n",
    "            continue\n",
    "        elem = elems[-1]\n",
    "\n",
    "        xoffset = 0\n",
    "        yoffset = 80\n",
    "\n",
    "        actionChains.move_to_element_with_offset(elem, xoffset, yoffset).perform()\n",
    "        browser.execute_script(\"arguments[0].scrollIntoView();\", elem)\n",
    "        time.sleep(0.2)\n",
    "\n",
    "\n",
    "    # extracting the data\n",
    "    elems = browser.find_elements(\"xpath\",'.//div[@class=\"bfdHYd Ppzolf OFBs3e  \"]')\n",
    "    for elem in elems:\n",
    "        d = getLabelData(elem)\n",
    "        data.append(d)\n",
    "\n",
    "#     print(\"Done\")\n",
    "#     print(\"Extracted :: \",len(elems))\n",
    "    \n",
    "#     print(\"Saving the file:\")\n",
    "    \n",
    "    df = pd.DataFrame(data)\n",
    "    df.to_csv(\"../results/names/{}/{}_companies.csv\".format(country,city),index=None)\n",
    "    "
   ]
  },
  {
   "cell_type": "code",
   "execution_count": null,
   "id": "846f3a3e",
   "metadata": {},
   "outputs": [],
   "source": [
    "# Note: There are times when you get Aw, Swap error from google maps: then do below\n",
    "# Check the number of iteration done till now \n",
    "# continue iterating cities from that city\n",
    "# Run again"
   ]
  },
  {
   "cell_type": "code",
   "execution_count": null,
   "id": "ead0c4aa",
   "metadata": {},
   "outputs": [],
   "source": []
  },
  {
   "cell_type": "code",
   "execution_count": null,
   "id": "434f94bf",
   "metadata": {},
   "outputs": [],
   "source": []
  },
  {
   "cell_type": "markdown",
   "id": "47290f5c",
   "metadata": {},
   "source": [
    "#### Selected City - Do Zoom in | Drag Drop | Extract || Repeat"
   ]
  },
  {
   "cell_type": "code",
   "execution_count": 23,
   "id": "13af0258",
   "metadata": {},
   "outputs": [],
   "source": [
    "data = []"
   ]
  },
  {
   "cell_type": "code",
   "execution_count": 24,
   "id": "a799f0a9",
   "metadata": {},
   "outputs": [],
   "source": [
    "city = \"Riyadh\" # Mostly do it for capital city\n",
    "url = \"https://www.google.com/maps/search/Pharmaceutical companies in {} {}\".format(city,country)\n",
    "#     print(\"Currently extracting from :: \",url)\n",
    "browser.get(url)"
   ]
  },
  {
   "cell_type": "code",
   "execution_count": 25,
   "id": "2b7c0ea6",
   "metadata": {},
   "outputs": [],
   "source": [
    "## zoom in \n",
    "zoom_button = browser.find_element(\"xpath\",'.//button[@id=\"widget-zoom-in\"]')\n",
    "action = ActionChains(browser)\n",
    "action.click(on_element = zoom_button)\n",
    "action.perform() "
   ]
  },
  {
   "cell_type": "code",
   "execution_count": 26,
   "id": "65f19f7d",
   "metadata": {},
   "outputs": [],
   "source": [
    "## search this area\n",
    "search_this_area = browser.find_element(\"xpath\",'.//span[@class=\"Kw7Rxf\"]')\n",
    "action.click(on_element = search_this_area)\n",
    "action.perform() "
   ]
  },
  {
   "cell_type": "code",
   "execution_count": 28,
   "id": "9569d86c",
   "metadata": {},
   "outputs": [
    {
     "name": "stdout",
     "output_type": "stream",
     "text": [
      "Reached end !!\n",
      "Done\n",
      "Extracted ::  5\n"
     ]
    }
   ],
   "source": [
    "## Extracting again\n",
    "# scrolling : \n",
    "actionChains = ActionChains(browser)\n",
    "\n",
    "# scrolling upto 20 times::\n",
    "end = False\n",
    "repeat = 0\n",
    "limit = 28\n",
    "    \n",
    "while not end and repeat < limit:\n",
    "\n",
    "    # check end\n",
    "    end_identify = browser.find_elements(\"xpath\",'.//span[@class=\"HlvSq\"]')\n",
    "    if len(end_identify)>0:\n",
    "        end = True\n",
    "        print(\"Reached end !!\")\n",
    "\n",
    "    repeat += 1\n",
    "    if repeat == limit:\n",
    "        print(\"28 times reached !!\")\n",
    "        end = True\n",
    "    \n",
    "    elems = browser.find_elements(\"xpath\",'.//div[@class=\"bfdHYd Ppzolf OFBs3e  \"]')\n",
    "    if len(elems)==0:\n",
    "        print(\"Remember to add \")\n",
    "        continue\n",
    "    elem = elems[-1]\n",
    "    \n",
    "    xoffset = 0\n",
    "    yoffset = 80\n",
    "    \n",
    "    actionChains.move_to_element_with_offset(elem, xoffset, yoffset).perform()\n",
    "    browser.execute_script(\"arguments[0].scrollIntoView();\", elem)\n",
    "    time.sleep(0.2)\n",
    "\n",
    "\n",
    "# extracting the data\n",
    "elems = browser.find_elements(\"xpath\",'.//div[@class=\"bfdHYd Ppzolf OFBs3e  \"]')\n",
    "for elem in elems:\n",
    "    d = getLabelData(elem)\n",
    "    data.append(d)\n",
    "    \n",
    "print(\"Done\")\n",
    "print(\"Extracted :: \",len(elems))"
   ]
  },
  {
   "cell_type": "code",
   "execution_count": 29,
   "id": "0d004aeb",
   "metadata": {},
   "outputs": [],
   "source": [
    "# filtering duplicates:\n",
    "## removing duplicates\n",
    "final_data = []\n",
    "for d in data:\n",
    "    if d not in final_data:\n",
    "        final_data.append(d)"
   ]
  },
  {
   "cell_type": "code",
   "execution_count": 30,
   "id": "02301433",
   "metadata": {},
   "outputs": [
    {
     "data": {
      "text/plain": [
       "21"
      ]
     },
     "execution_count": 30,
     "metadata": {},
     "output_type": "execute_result"
    }
   ],
   "source": [
    "len(final_data)"
   ]
  },
  {
   "cell_type": "code",
   "execution_count": null,
   "id": "f745629d",
   "metadata": {},
   "outputs": [],
   "source": []
  },
  {
   "cell_type": "code",
   "execution_count": 31,
   "id": "b9bde9bb",
   "metadata": {},
   "outputs": [],
   "source": [
    "df = pd.DataFrame(final_data)"
   ]
  },
  {
   "cell_type": "code",
   "execution_count": 32,
   "id": "cfdbbb6c",
   "metadata": {},
   "outputs": [],
   "source": [
    "df.to_csv(\"../results/names/{}/Companies_Rest_All.csv\".format(country,city),index=None)"
   ]
  },
  {
   "cell_type": "code",
   "execution_count": null,
   "id": "ee899d61",
   "metadata": {},
   "outputs": [],
   "source": []
  },
  {
   "cell_type": "code",
   "execution_count": null,
   "id": "30406e64",
   "metadata": {},
   "outputs": [],
   "source": []
  }
 ],
 "metadata": {
  "kernelspec": {
   "display_name": "Python 3 (ipykernel)",
   "language": "python",
   "name": "python3"
  },
  "language_info": {
   "codemirror_mode": {
    "name": "ipython",
    "version": 3
   },
   "file_extension": ".py",
   "mimetype": "text/x-python",
   "name": "python",
   "nbconvert_exporter": "python",
   "pygments_lexer": "ipython3",
   "version": "3.11.5"
  }
 },
 "nbformat": 4,
 "nbformat_minor": 5
}
